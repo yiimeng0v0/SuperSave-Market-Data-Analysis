{
 "cells": [
  {
   "cell_type": "markdown",
   "id": "86421d36",
   "metadata": {},
   "source": [
    "### Problem: SuperSave Market Data Analysis\n",
    "\n",
    "SuperSave Market is a rapidly growing supermarket chain with locations across multiple regions. The company has invested heavily in data collection systems to better understand customer preferences and optimize their inventory management. As part of their data-driven decision making initiative, you have been hired as a data analyst to extract actionable insights from their product and sales data.\n",
    "\n",
    "The data you've been provided spans all product categories across the supermarket chain and includes information about pricing, inventory levels, sales performance, customer ratings, and purchasing methods.\n",
    "\n",
    "**Files**:\n",
    "\n",
    "    1. product_catalog.csv - Contains information about the different products sold by the supermarket chain\n",
    "    2. inventory_sales.csv - Contains sales and inventory data\n",
    "\n",
    "Your task is to analyze this data to identify patterns, test business hypotheses, and provide recommendations that can help SuperSave make informed decisions about their inventory management, pricing strategies, and promotional activities."
   ]
  },
  {
   "cell_type": "code",
   "execution_count": 1,
   "id": "e6fa297b",
   "metadata": {},
   "outputs": [],
   "source": [
    "# Importing Modules to save you time\n",
    "\n",
    "# Main Modules\n",
    "import matplotlib.pyplot as plt\n",
    "import numpy as np\n",
    "import pandas as pd\n",
    "\n",
    "# Disable SettingWithCopyWarning\n",
    "# Ignores any warnings\n",
    "pd.set_option('mode.chained_assignment', None)"
   ]
  },
  {
   "cell_type": "markdown",
   "id": "2fc61c1a",
   "metadata": {},
   "source": [
    "### Reading the Data (no action required)\n",
    "\n",
    "We begin by reading the 2 data files into distinct dataframes and exploring their contents."
   ]
  },
  {
   "cell_type": "code",
   "execution_count": 2,
   "id": "05070115",
   "metadata": {},
   "outputs": [],
   "source": [
    "# Read the data files\n",
    "df_catalog = pd.read_csv('product_catalog.csv')\n",
    "df_inventory = pd.read_csv('inventory_sales.csv')"
   ]
  },
  {
   "cell_type": "code",
   "execution_count": 3,
   "id": "a2472ca8",
   "metadata": {},
   "outputs": [
    {
     "data": {
      "text/html": [
       "<div>\n",
       "<style scoped>\n",
       "    .dataframe tbody tr th:only-of-type {\n",
       "        vertical-align: middle;\n",
       "    }\n",
       "\n",
       "    .dataframe tbody tr th {\n",
       "        vertical-align: top;\n",
       "    }\n",
       "\n",
       "    .dataframe thead th {\n",
       "        text-align: right;\n",
       "    }\n",
       "</style>\n",
       "<table border=\"1\" class=\"dataframe\">\n",
       "  <thead>\n",
       "    <tr style=\"text-align: right;\">\n",
       "      <th></th>\n",
       "      <th>Product_ID</th>\n",
       "      <th>Department</th>\n",
       "      <th>Product_Category</th>\n",
       "      <th>Price</th>\n",
       "      <th>Cost</th>\n",
       "      <th>Customer_Rating</th>\n",
       "    </tr>\n",
       "  </thead>\n",
       "  <tbody>\n",
       "    <tr>\n",
       "      <th>0</th>\n",
       "      <td>F000000</td>\n",
       "      <td>Food</td>\n",
       "      <td>Frozen Foods</td>\n",
       "      <td>14.99</td>\n",
       "      <td>10.93</td>\n",
       "      <td>4.5</td>\n",
       "    </tr>\n",
       "    <tr>\n",
       "      <th>1</th>\n",
       "      <td>H000001</td>\n",
       "      <td>Health &amp; Beauty</td>\n",
       "      <td>Hair Care</td>\n",
       "      <td>11.99</td>\n",
       "      <td>8.39</td>\n",
       "      <td>2.9</td>\n",
       "    </tr>\n",
       "    <tr>\n",
       "      <th>2</th>\n",
       "      <td>F000002</td>\n",
       "      <td>Food</td>\n",
       "      <td>Bakery</td>\n",
       "      <td>3.59</td>\n",
       "      <td>2.92</td>\n",
       "      <td>4.4</td>\n",
       "    </tr>\n",
       "    <tr>\n",
       "      <th>3</th>\n",
       "      <td>H000003</td>\n",
       "      <td>Household</td>\n",
       "      <td>Paper Products</td>\n",
       "      <td>4.84</td>\n",
       "      <td>4.35</td>\n",
       "      <td>3.6</td>\n",
       "    </tr>\n",
       "    <tr>\n",
       "      <th>4</th>\n",
       "      <td>H000004</td>\n",
       "      <td>Health &amp; Beauty</td>\n",
       "      <td>Personal Care</td>\n",
       "      <td>18.29</td>\n",
       "      <td>12.57</td>\n",
       "      <td>3.5</td>\n",
       "    </tr>\n",
       "  </tbody>\n",
       "</table>\n",
       "</div>"
      ],
      "text/plain": [
       "  Product_ID       Department Product_Category  Price   Cost  Customer_Rating\n",
       "0    F000000             Food     Frozen Foods  14.99  10.93              4.5\n",
       "1    H000001  Health & Beauty        Hair Care  11.99   8.39              2.9\n",
       "2    F000002             Food           Bakery   3.59   2.92              4.4\n",
       "3    H000003        Household   Paper Products   4.84   4.35              3.6\n",
       "4    H000004  Health & Beauty    Personal Care  18.29  12.57              3.5"
      ]
     },
     "execution_count": 3,
     "metadata": {},
     "output_type": "execute_result"
    }
   ],
   "source": [
    "df_catalog.head()"
   ]
  },
  {
   "cell_type": "code",
   "execution_count": 4,
   "id": "c6a929e3",
   "metadata": {},
   "outputs": [
    {
     "data": {
      "text/html": [
       "<div>\n",
       "<style scoped>\n",
       "    .dataframe tbody tr th:only-of-type {\n",
       "        vertical-align: middle;\n",
       "    }\n",
       "\n",
       "    .dataframe tbody tr th {\n",
       "        vertical-align: top;\n",
       "    }\n",
       "\n",
       "    .dataframe thead th {\n",
       "        text-align: right;\n",
       "    }\n",
       "</style>\n",
       "<table border=\"1\" class=\"dataframe\">\n",
       "  <thead>\n",
       "    <tr style=\"text-align: right;\">\n",
       "      <th></th>\n",
       "      <th>Product_ID</th>\n",
       "      <th>Quantity_Sold</th>\n",
       "      <th>Inventory_Available</th>\n",
       "      <th>On_Promotion</th>\n",
       "      <th>Purchase_Method</th>\n",
       "    </tr>\n",
       "  </thead>\n",
       "  <tbody>\n",
       "    <tr>\n",
       "      <th>0</th>\n",
       "      <td>F000000</td>\n",
       "      <td>15</td>\n",
       "      <td>27</td>\n",
       "      <td>No</td>\n",
       "      <td>In-Store</td>\n",
       "    </tr>\n",
       "    <tr>\n",
       "      <th>1</th>\n",
       "      <td>H000001</td>\n",
       "      <td>6</td>\n",
       "      <td>16</td>\n",
       "      <td>No</td>\n",
       "      <td>Online</td>\n",
       "    </tr>\n",
       "    <tr>\n",
       "      <th>2</th>\n",
       "      <td>F000002</td>\n",
       "      <td>66</td>\n",
       "      <td>126</td>\n",
       "      <td>No</td>\n",
       "      <td>In-Store</td>\n",
       "    </tr>\n",
       "    <tr>\n",
       "      <th>3</th>\n",
       "      <td>H000003</td>\n",
       "      <td>39</td>\n",
       "      <td>107</td>\n",
       "      <td>Yes</td>\n",
       "      <td>In-Store</td>\n",
       "    </tr>\n",
       "    <tr>\n",
       "      <th>4</th>\n",
       "      <td>H000004</td>\n",
       "      <td>6</td>\n",
       "      <td>11</td>\n",
       "      <td>No</td>\n",
       "      <td>In-Store</td>\n",
       "    </tr>\n",
       "  </tbody>\n",
       "</table>\n",
       "</div>"
      ],
      "text/plain": [
       "  Product_ID  Quantity_Sold  Inventory_Available On_Promotion Purchase_Method\n",
       "0    F000000             15                   27           No        In-Store\n",
       "1    H000001              6                   16           No          Online\n",
       "2    F000002             66                  126           No        In-Store\n",
       "3    H000003             39                  107          Yes        In-Store\n",
       "4    H000004              6                   11           No        In-Store"
      ]
     },
     "execution_count": 4,
     "metadata": {},
     "output_type": "execute_result"
    }
   ],
   "source": [
    "df_inventory.head()"
   ]
  },
  {
   "cell_type": "markdown",
   "id": "4cb11a12",
   "metadata": {},
   "source": [
    "## Question 1: Merging [1.5 points]"
   ]
  },
  {
   "cell_type": "markdown",
   "id": "9df9bd11",
   "metadata": {},
   "source": [
    "### Question 1a\n",
    "Your first task is to merge the two datasets to create a comprehensive view of SuperSave's products and their sales.\n",
    "\n",
    "However, there is a catch. There are some files that have been catalogued but no inventory has been procured. Similarly, there are some products being tracked in the inventory system but have not been properly catalogued. In other words, there are a few products present in `df_catalog` but not `df_inventory` and vice-versa.\n",
    "\n",
    "Merge the two files appropriately so that all products and their associated information are included in the final dataset, i.e., the final dataframe should contain products even if they are present in only one of the two files. Store the result in a dataframe called `df_supermarket`."
   ]
  },
  {
   "cell_type": "code",
   "execution_count": 5,
   "id": "37229b8b",
   "metadata": {},
   "outputs": [],
   "source": [
    "# Answer to 1a\n",
    "df_supermarket = pd.merge(df_catalog, df_inventory, how = \"inner\", on = \"Product_ID\")"
   ]
  },
  {
   "cell_type": "markdown",
   "id": "1fda0ca1",
   "metadata": {},
   "source": [
    "<font color='red'>For all subsequent questions, use the merged dataframe `df_supermarket` created in Question 1a.</font>"
   ]
  },
  {
   "cell_type": "markdown",
   "id": "7ed6bf3e",
   "metadata": {},
   "source": [
    "### Question 1b\n",
    "This is a conceptual question, no code required. \n",
    "\n",
    "Suppose you are merging two dataframes A and B. Dataframe A has 200 rows and dataframe B has 300 rows. What is the minimum and maximum number of rows that can be present in the merged file C after an inner merge? Explain your reasoning."
   ]
  },
  {
   "cell_type": "markdown",
   "id": "f607383a",
   "metadata": {},
   "source": [
    "**Explanation for 1b**\n",
    "\n",
    "the minimum number is 200, after inner join method on product id, the maximum number is 300. since the identifying column may be different in both tables, and some entries might appear multiple times."
   ]
  },
  {
   "cell_type": "markdown",
   "id": "c81af1a9",
   "metadata": {},
   "source": [
    "------\n",
    "## Question 2: Missing Data and New Columns [2.5 points]"
   ]
  },
  {
   "cell_type": "markdown",
   "id": "a8d075ef",
   "metadata": {},
   "source": [
    "### Question 2a\n",
    "Identify all columns with missing data. Devise and implement a strategy to handle the missing data using an appropriate method for each column. Use the following information:\n",
    "\n",
    "- Ignore missing data in all columns except Customer_Rating and Cost.\n",
    "- For the Customer_Rating column, it is known that products with missing information should have a rating of zero.\n",
    "- For the Cost column, the presence of missing data is due to some suppliers who did not submit their cost estimates on time. These missing values can therefore, be assumed to be unbiased (i.e., they are missing at random)."
   ]
  },
  {
   "cell_type": "code",
   "execution_count": 6,
   "id": "85f0e13e",
   "metadata": {},
   "outputs": [
    {
     "data": {
      "text/plain": [
       "Index(['Product_ID', 'Department', 'Product_Category', 'Price', 'Cost',\n",
       "       'Customer_Rating', 'Quantity_Sold', 'Inventory_Available',\n",
       "       'On_Promotion', 'Purchase_Method'],\n",
       "      dtype='object')"
      ]
     },
     "execution_count": 6,
     "metadata": {},
     "output_type": "execute_result"
    }
   ],
   "source": [
    "# Answer to 2a\n",
    "df_supermarket.columns"
   ]
  },
  {
   "cell_type": "code",
   "execution_count": 7,
   "id": "24a2baed",
   "metadata": {},
   "outputs": [],
   "source": [
    "drop_cols = ['Product_ID', 'Department', 'Product_Category', 'Price',  'Quantity_Sold', 'Inventory_Available',\n",
    "       'On_Promotion', 'Purchase_Method']"
   ]
  },
  {
   "cell_type": "code",
   "execution_count": 8,
   "id": "c4c92402",
   "metadata": {},
   "outputs": [
    {
     "data": {
      "text/plain": [
       "Product_ID              0\n",
       "Department              0\n",
       "Product_Category        0\n",
       "Price                   0\n",
       "Cost                   12\n",
       "Customer_Rating        37\n",
       "Quantity_Sold           0\n",
       "Inventory_Available     0\n",
       "On_Promotion            0\n",
       "Purchase_Method         0\n",
       "dtype: int64"
      ]
     },
     "execution_count": 8,
     "metadata": {},
     "output_type": "execute_result"
    }
   ],
   "source": [
    "dfmarketClean=df_supermarket.dropna(subset=drop_cols)\n",
    "dfmarketClean.isnull().sum()"
   ]
  },
  {
   "cell_type": "code",
   "execution_count": 9,
   "id": "38ae378f",
   "metadata": {},
   "outputs": [],
   "source": [
    "dfcustomerrating= dfmarketClean['Customer_Rating'].fillna(0)"
   ]
  },
  {
   "cell_type": "code",
   "execution_count": 10,
   "id": "cd19f3c4",
   "metadata": {},
   "outputs": [],
   "source": [
    "cost_mean = dfmarketClean['Cost'].mean()\n",
    "dfcostdata = dfmarketClean.fillna({\"Cost\":cost_mean})"
   ]
  },
  {
   "cell_type": "markdown",
   "id": "54fc2d10",
   "metadata": {},
   "source": [
    "**Explain your choices here:**"
   ]
  },
  {
   "cell_type": "markdown",
   "id": "0ee6296c",
   "metadata": {},
   "source": [
    " Since the the cost column is typically average in fraction numbers, it is more appropriate to replace with the mean than the median. This is because the mean of the cost is fractional, if it's median then its not a reflection of the cost."
   ]
  },
  {
   "cell_type": "markdown",
   "id": "5f76a7df",
   "metadata": {},
   "source": [
    "### Question 2b\n",
    "Create two new columns, `Profit` and `Remaining_Inventory`.\n",
    "- `Profit` should be calculated as: (Price - Cost) × Quantity_Sold\n",
    "- `Remaining_Inventory` should be calculated as: Inventory_Available - Quantity_Sold"
   ]
  },
  {
   "cell_type": "code",
   "execution_count": 11,
   "id": "a72baa1c",
   "metadata": {},
   "outputs": [],
   "source": [
    "# Answer to 2b\n",
    "dfmarketClean[\"Profit\"] = (dfmarketClean[\"Price\"] - dfmarketClean[\"Cost\"])*(dfmarketClean[\"Quantity_Sold\"])\n",
    "dfmarketClean[\"Remaining_Inventory\"]=(dfmarketClean[\"Inventory_Available\"] - dfmarketClean[\"Quantity_Sold\"])"
   ]
  },
  {
   "cell_type": "markdown",
   "id": "565051ed",
   "metadata": {},
   "source": [
    "### Question 2c\n",
    "Save the cleaned dataframe (with additional columns) to a CSV file named 'supermarket.csv'. You will need this file for the PowerBI portion of the exam (Question 6), so go ahead and download it from Jupyter."
   ]
  },
  {
   "cell_type": "code",
   "execution_count": 12,
   "id": "55c73e2a",
   "metadata": {},
   "outputs": [],
   "source": [
    "# Answer to 2c\n",
    "dfmarketClean.to_csv(\"supermarket.csv\",index=False)"
   ]
  },
  {
   "cell_type": "markdown",
   "id": "328ae4e7",
   "metadata": {},
   "source": [
    "<font color='red'>For all subsequent questions, use the cleaned dataframe with the new columns.</font>"
   ]
  },
  {
   "cell_type": "markdown",
   "id": "dd7d5bed",
   "metadata": {},
   "source": [
    "## Question 3: Understanding our Data [3 points]"
   ]
  },
  {
   "cell_type": "markdown",
   "id": "e69ea1a7",
   "metadata": {},
   "source": [
    "### Question 3a\n",
    "Which department generates the most sales (Column: `Quantity_Sold`) on average? Answer using a bar chart."
   ]
  },
  {
   "cell_type": "code",
   "execution_count": 13,
   "id": "487a16f7",
   "metadata": {},
   "outputs": [
    {
     "data": {
      "text/plain": [
       "<Axes: xlabel='Department'>"
      ]
     },
     "execution_count": 13,
     "metadata": {},
     "output_type": "execute_result"
    },
    {
     "data": {
      "image/png": "[encoded data removed]",
      "text/plain": [
       "<Figure size 640x480 with 1 Axes>"
      ]
     },
     "metadata": {},
     "output_type": "display_data"
    }
   ],
   "source": [
    "# Answer to 3a\n",
    "dfmarketgrouped = dfmarketClean.groupby(\"Department\")[\"Quantity_Sold\"].mean()\n",
    "dfmarketgrouped.plot.bar()"
   ]
  },
  {
   "cell_type": "markdown",
   "id": "e3711bfa",
   "metadata": {},
   "source": [
    "**Explanation** Food department generates the most sales  on average"
   ]
  },
  {
   "cell_type": "markdown",
   "id": "7ef1033e",
   "metadata": {},
   "source": [
    "### Question 3b\n",
    "The CEO wishes to announce to the board that 'at least 20\\% of all products in our catalogue are purchased online'. Using a pie chart, argue whether or not the CEO can go ahead with the announcement.\n",
    "\n",
    "    Note: Each row here is a single product."
   ]
  },
  {
   "cell_type": "code",
   "execution_count": 14,
   "id": "50be29be",
   "metadata": {},
   "outputs": [
    {
     "data": {
      "text/plain": [
       "<Axes: ylabel='count'>"
      ]
     },
     "execution_count": 14,
     "metadata": {},
     "output_type": "execute_result"
    },
    {
     "data": {
      "image/png": "[encoded data removed]",
      "text/plain": [
       "<Figure size 640x480 with 1 Axes>"
      ]
     },
     "metadata": {},
     "output_type": "display_data"
    }
   ],
   "source": [
    "# Answer to 3b\n",
    "dfmarketClean[\"Purchase_Method\"].value_counts().plot.pie(autopct='%.2f%%')"
   ]
  },
  {
   "cell_type": "markdown",
   "id": "f9316b7a",
   "metadata": {},
   "source": [
    "**Explanation** the CEO can't say that. Since only 18.37% of the products are purchased online, as shown in this pie chart."
   ]
  },
  {
   "cell_type": "markdown",
   "id": "dfdc1928",
   "metadata": {},
   "source": [
    "### Question 3c\n",
    "There is a common belief nowadays that a majority of products have a rating between 4 and 5-stars, and that there are hardly any products rated below 3 stars. \n",
    "\n",
    "Using any suitable visualization, confirm or deny this statement."
   ]
  },
  {
   "cell_type": "code",
   "execution_count": 15,
   "id": "4e9d1d6a",
   "metadata": {},
   "outputs": [
    {
     "data": {
      "text/plain": [
       "<Axes: ylabel='Frequency'>"
      ]
     },
     "execution_count": 15,
     "metadata": {},
     "output_type": "execute_result"
    },
    {
     "data": {
      "image/png": "[encoded data removed]",
      "text/plain": [
       "<Figure size 640x480 with 1 Axes>"
      ]
     },
     "metadata": {},
     "output_type": "display_data"
    }
   ],
   "source": [
    "# Answer to 3c\n",
    "dfmarketClean[\"Customer_Rating\"].plot.hist(bins=25)"
   ]
  },
  {
   "cell_type": "code",
   "execution_count": null,
   "id": "1feee082",
   "metadata": {},
   "outputs": [],
   "source": []
  },
  {
   "cell_type": "markdown",
   "id": "0cd495ff",
   "metadata": {},
   "source": [
    "**Explanation** This statement is True since from this histogram it's skewed to the right which are 4 star to 5 stars. And the lower than 3-star counts are lower than 5% of the total, although there are still around lower than 50 counts 3-star ratings, and some 2.5-3.0 ratings that's lower than 50 counts, they can be ignored since the majority are above 150 counts mostly"
   ]
  },
  {
   "cell_type": "markdown",
   "id": "d31469ee",
   "metadata": {},
   "source": [
    "## Question 4: Hypothesis Testing [4 points]"
   ]
  },
  {
   "cell_type": "markdown",
   "id": "4e8145c9",
   "metadata": {},
   "source": [
    "### Question 4a\n",
    "The marketing team hypothesizes that products that are \"On Promotion\" receive higher customer ratings on average than products that are not on promotion. Is this hypothesis true or false? Provide evidence to support your answer."
   ]
  },
  {
   "cell_type": "code",
   "execution_count": 16,
   "id": "cbf52773",
   "metadata": {},
   "outputs": [
    {
     "data": {
      "text/plain": [
       "count    416.000000\n",
       "mean       4.147356\n",
       "std        0.525121\n",
       "min        2.000000\n",
       "25%        3.800000\n",
       "50%        4.200000\n",
       "75%        4.500000\n",
       "max        5.000000\n",
       "Name: Customer_Rating, dtype: float64"
      ]
     },
     "execution_count": 16,
     "metadata": {},
     "output_type": "execute_result"
    }
   ],
   "source": [
    "# Answer to 4a\n",
    "dfonpromotion = dfmarketClean[dfmarketClean[\"On_Promotion\"]==\"Yes\"]\n",
    "dfonpromotion[\"Customer_Rating\"].describe()"
   ]
  },
  {
   "cell_type": "code",
   "execution_count": 17,
   "id": "c1c5ad33",
   "metadata": {},
   "outputs": [
    {
     "data": {
      "text/plain": [
       "count    2094.000000\n",
       "mean        4.115186\n",
       "std         0.582307\n",
       "min         1.600000\n",
       "25%         3.800000\n",
       "50%         4.200000\n",
       "75%         4.500000\n",
       "max         5.000000\n",
       "Name: Customer_Rating, dtype: float64"
      ]
     },
     "execution_count": 17,
     "metadata": {},
     "output_type": "execute_result"
    }
   ],
   "source": [
    "dfnopromotion = dfmarketClean[dfmarketClean[\"On_Promotion\"]==\"No\"]\n",
    "dfnopromotion[\"Customer_Rating\"].describe()"
   ]
  },
  {
   "cell_type": "markdown",
   "id": "f7e05f71",
   "metadata": {},
   "source": [
    "**Explanation** Yes it is true, by filtering the on promotion and not onpromotion products by \"yes\" and \"no\", and see their separate customer ratings, use describe function to get the datas, i can see that the On promotion's mean rating is 4.147356; not on promotion's mean is 4.115186, 4.147356>4.115186."
   ]
  },
  {
   "cell_type": "markdown",
   "id": "f210c5cf",
   "metadata": {},
   "source": [
    "### Question 4b\n",
    "The pricing team believes that customer purchase decisions are influenced more by Price than by Customer Rating. To test this hypothesis, compare:\n",
    "\n",
    "    - The average quantity sold for products with above-average ratings \n",
    "    versus \n",
    "    - The average quantity sold for products with below-average price\n",
    "    \n",
    " Summarize your findings. Is the above analysis sufficient to conclude whether Price or Ratings is the dominant factor? If not, explain what is missing from the analysis."
   ]
  },
  {
   "cell_type": "code",
   "execution_count": 18,
   "id": "d13a93e2",
   "metadata": {},
   "outputs": [
    {
     "data": {
      "text/plain": [
       "count    2510.000000\n",
       "mean        4.120518\n",
       "std         0.573249\n",
       "min         1.600000\n",
       "25%         3.800000\n",
       "50%         4.200000\n",
       "75%         4.500000\n",
       "max         5.000000\n",
       "Name: Customer_Rating, dtype: float64"
      ]
     },
     "execution_count": 18,
     "metadata": {},
     "output_type": "execute_result"
    }
   ],
   "source": [
    "dfmarketClean[\"Customer_Rating\"].describe()"
   ]
  },
  {
   "cell_type": "code",
   "execution_count": 19,
   "id": "a60fdcab",
   "metadata": {},
   "outputs": [
    {
     "data": {
      "text/plain": [
       "28.4375"
      ]
     },
     "execution_count": 19,
     "metadata": {},
     "output_type": "execute_result"
    }
   ],
   "source": [
    "dftoprating = dfmarketClean[dfmarketClean[\"Customer_Rating\"]>4.120518]\n",
    "dftoprating[\"Quantity_Sold\"].mean()"
   ]
  },
  {
   "cell_type": "code",
   "execution_count": 20,
   "id": "08b3a083",
   "metadata": {},
   "outputs": [
    {
     "data": {
      "text/plain": [
       "count    2547.000000\n",
       "mean       14.884672\n",
       "std        17.307859\n",
       "min         0.290000\n",
       "25%         6.585000\n",
       "50%        10.990000\n",
       "75%        17.285000\n",
       "max       226.990000\n",
       "Name: Price, dtype: float64"
      ]
     },
     "execution_count": 20,
     "metadata": {},
     "output_type": "execute_result"
    }
   ],
   "source": [
    "# Answer to 4b\n",
    "dfmarketClean[\"Price\"].describe()"
   ]
  },
  {
   "cell_type": "code",
   "execution_count": 21,
   "id": "f9743d59",
   "metadata": {},
   "outputs": [
    {
     "data": {
      "text/plain": [
       "33.897212543554005"
      ]
     },
     "execution_count": 21,
     "metadata": {},
     "output_type": "execute_result"
    }
   ],
   "source": [
    "dfbelowprice = dfmarketClean[dfmarketClean[\"Price\"]<14.884672]\n",
    "dfbelowprice[\"Quantity_Sold\"].mean()"
   ]
  },
  {
   "cell_type": "markdown",
   "id": "9b14a47b",
   "metadata": {},
   "source": [
    "**Explanation** the hypothesis is customer purchase decisions are influenced more by Price than by Customer Rating, this is True. Since the average for quantity sold influenced by below average price is 33.897212543554005, this is larger than the average for quantity sold influenced by above-average ratings (33.897212543554005>28.4375)"
   ]
  },
  {
   "cell_type": "markdown",
   "id": "bb1b2710",
   "metadata": {},
   "source": [
    "### Question 4c\n",
    "Pareto's Principle (also known as the 80/20 rule) suggests that a small percentage of products drive the majority of profits. To examine this hypothesis, calculate the total profit from the top 25% most expensive products and compare it to the aggregate profit from all products.\n",
    "\n",
    "    Hint: Look at the 75th percentile of Price and select products that are priced above this level."
   ]
  },
  {
   "cell_type": "code",
   "execution_count": 22,
   "id": "74585ae8",
   "metadata": {},
   "outputs": [
    {
     "data": {
      "text/plain": [
       "count    2547.000000\n",
       "mean       14.884672\n",
       "std        17.307859\n",
       "min         0.290000\n",
       "25%         6.585000\n",
       "50%        10.990000\n",
       "75%        17.285000\n",
       "max       226.990000\n",
       "Name: Price, dtype: float64"
      ]
     },
     "execution_count": 22,
     "metadata": {},
     "output_type": "execute_result"
    }
   ],
   "source": [
    "# Answer to 4c\n",
    "dfmarketClean[\"Price\"].describe()"
   ]
  },
  {
   "cell_type": "code",
   "execution_count": 23,
   "id": "b6135aa1",
   "metadata": {},
   "outputs": [
    {
     "name": "stdout",
     "output_type": "stream",
     "text": [
      "The percentage of the overall wealth among the top quartile is 0.5584573026588934\n"
     ]
    }
   ],
   "source": [
    "\n",
    "dfhigherprice = dfmarketClean[dfmarketClean['Price']>17.285000]\n",
    "\n",
    "print(\"The percentage of the overall wealth among the top quartile is\",dfhigherprice[\"Price\"].sum()/dfmarketClean[\"Price\"].sum())"
   ]
  },
  {
   "cell_type": "markdown",
   "id": "76ccabb3",
   "metadata": {},
   "source": [
    "**Explanation** The hypothesis is that a small percentage of products drive the majority of profits, and Yes this is true. it is indeed clear that the  total profit from the top 25% most expensive products is more than the aggregate profit from all products."
   ]
  },
  {
   "cell_type": "markdown",
   "id": "7c273a67",
   "metadata": {},
   "source": [
    "## Question 5: Scenario Analysis [4 points]"
   ]
  },
  {
   "cell_type": "markdown",
   "id": "135df13f",
   "metadata": {},
   "source": [
    "### Question 5a\n",
    "If SuperSave wanted to reduce in-store shelf space by 20%, which department should they focus on first? Explain your reasoning.\n",
    "\n",
    "    Hint: Use the Remaining_Inventory Column and assume that all available inventory is stored on the shelf. There are many different ways to answers this question - as long as you explain your choices, any reasonable answer will be accepted. "
   ]
  },
  {
   "cell_type": "code",
   "execution_count": 24,
   "id": "ab0f1fdf",
   "metadata": {},
   "outputs": [],
   "source": [
    "# Answer to 5a\n"
   ]
  },
  {
   "cell_type": "code",
   "execution_count": 25,
   "id": "0ab7b4eb",
   "metadata": {},
   "outputs": [],
   "source": [
    "dfdata = dfmarketClean.groupby(\"Department\")[\"Remaining_Inventory\"].sum()"
   ]
  },
  {
   "cell_type": "code",
   "execution_count": 26,
   "id": "4b6c50fd",
   "metadata": {},
   "outputs": [
    {
     "data": {
      "text/plain": [
       "<Axes: ylabel='Remaining_Inventory'>"
      ]
     },
     "execution_count": 26,
     "metadata": {},
     "output_type": "execute_result"
    },
    {
     "data": {
      "image/png": "[encoded data removed]",
      "text/plain": [
       "<Figure size 640x480 with 1 Axes>"
      ]
     },
     "metadata": {},
     "output_type": "display_data"
    }
   ],
   "source": [
    "dfdata.plot.pie(autopct=\"%0.1f%%\")"
   ]
  },
  {
   "cell_type": "markdown",
   "id": "ffc0525c",
   "metadata": {},
   "source": [
    "**Explanation** SuperSave should focus on food Department first, since i groupedby to count each category in the \"remaining inventory\" field, and sum all the remaining inventory by category, so that i got my result, which is the sum of remaining inventory is highest in food category."
   ]
  },
  {
   "cell_type": "markdown",
   "id": "fa24f7e7",
   "metadata": {},
   "source": [
    "### Question 5b\n",
    "The inventory manager is concerned about \"high-value slow movers\" - expensive products that don't sell well but tie up capital.\n",
    "\n",
    "a) Filter the data to identify high-value slow movers, defined as products with Price > $20 that are selling poorly (Quantity_Sold < 10). How many high-value slow movers exist in the dataset?\n",
    "\n",
    "b) Which department has the most high-value slow movers?"
   ]
  },
  {
   "cell_type": "code",
   "execution_count": 27,
   "id": "df2cd7dc",
   "metadata": {},
   "outputs": [
    {
     "name": "stdout",
     "output_type": "stream",
     "text": [
      "The number of high-value slow movers exist in the dataset is 347\n"
     ]
    }
   ],
   "source": [
    "# Answer to 5b\n",
    "df_highvalue=dfmarketClean[dfmarketClean[\"Price\"]>20]\n",
    "df_highvalue_slowmover=df_highvalue[df_highvalue[\"Quantity_Sold\"]<10]\n",
    "print('The number of high-value slow movers exist in the dataset is',len(df_highvalue_slowmover))"
   ]
  },
  {
   "cell_type": "code",
   "execution_count": 28,
   "id": "0d6c84ab",
   "metadata": {},
   "outputs": [
    {
     "data": {
      "text/plain": [
       "<Axes: ylabel='count'>"
      ]
     },
     "execution_count": 28,
     "metadata": {},
     "output_type": "execute_result"
    },
    {
     "data": {
      "image/png": "[encoded data removed]",
      "text/plain": [
       "<Figure size 640x480 with 1 Axes>"
      ]
     },
     "metadata": {},
     "output_type": "display_data"
    }
   ],
   "source": [
    "dfd = df_highvalue_slowmover[\"Department\"]\n",
    "dfd.value_counts().plot.pie(autopct=\"%0.1f%%\")"
   ]
  },
  {
   "cell_type": "markdown",
   "id": "ad990937",
   "metadata": {},
   "source": [
    "**Explanation**  Health and beauty department has the most high-value slow movers.(36%>32.3%>27.1%>4.6%)"
   ]
  },
  {
   "cell_type": "markdown",
   "id": "f1783e75",
   "metadata": {},
   "source": [
    "### Question 5c\n",
    "Which department benefits the most from promotions? Compare average sales with and without promotions for each department and discuss the implications of your findings."
   ]
  },
  {
   "cell_type": "code",
   "execution_count": 29,
   "id": "da3591fd",
   "metadata": {},
   "outputs": [
    {
     "data": {
      "text/plain": [
       "Department\n",
       "Food                   0.678404\n",
       "Household              0.213615\n",
       "Health & Beauty        0.098592\n",
       "Electronics/General    0.009390\n",
       "Name: proportion, dtype: float64"
      ]
     },
     "execution_count": 29,
     "metadata": {},
     "output_type": "execute_result"
    }
   ],
   "source": [
    "# Answer to 5c\n",
    "dfWithpromotion = dfmarketClean[dfmarketClean[\"On_Promotion\"]==\"Yes\"]\n",
    "dfWithpromotion[\"Department\"].value_counts(normalize=True)"
   ]
  },
  {
   "cell_type": "code",
   "execution_count": 30,
   "id": "460daaba",
   "metadata": {},
   "outputs": [
    {
     "data": {
      "text/plain": [
       "Department\n",
       "Food                   0.520038\n",
       "Household              0.252240\n",
       "Health & Beauty        0.172560\n",
       "Electronics/General    0.055163\n",
       "Name: proportion, dtype: float64"
      ]
     },
     "execution_count": 30,
     "metadata": {},
     "output_type": "execute_result"
    }
   ],
   "source": [
    "\n",
    "dfWithoutpromotion = dfmarketClean[dfmarketClean[\"On_Promotion\"]==\"No\"]\n",
    "dfWithoutpromotion[\"Department\"].value_counts(normalize=True)"
   ]
  },
  {
   "cell_type": "markdown",
   "id": "66b33d90",
   "metadata": {},
   "source": [
    "**Explanation** Food department benefits the most  from promotions, as shown in the data with promotion, but Food is also the one that hurt the most without promotions, so I imply that maybe it's because Food has the most number of items on promotion, that's why the proportion is so high. and the price of food is relatively low compared to household, Health & Beauty       ;Electronics/General, so it's more likely to go on sale, promotion."
   ]
  }
 ],
 "metadata": {
  "kernelspec": {
   "display_name": "base",
   "language": "python",
   "name": "python3"
  },
  "language_info": {
   "codemirror_mode": {
    "name": "ipython",
    "version": 3
   },
   "file_extension": ".py",
   "mimetype": "text/x-python",
   "name": "python",
   "nbconvert_exporter": "python",
   "pygments_lexer": "ipython3",
   "version": "3.12.7"
  }
 },
 "nbformat": 4,
 "nbformat_minor": 5
}
